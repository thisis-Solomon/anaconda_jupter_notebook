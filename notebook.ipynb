{
 "cells": [
  {
   "cell_type": "markdown",
   "id": "f4d94512",
   "metadata": {},
   "source": [
    "### Practice Day 36 + 37\n",
    "####  36. Setup the data science envroment the vscode\n",
    "#### 37. Generating the data set with numpy\n"
   ]
  },
  {
   "cell_type": "code",
   "execution_count": 1,
   "id": "81d36cc6",
   "metadata": {},
   "outputs": [
    {
     "name": "stdout",
     "output_type": "stream",
     "text": [
      "Solomon, in data science!\n"
     ]
    }
   ],
   "source": [
    "print(\"Solomon, in data science!\")"
   ]
  },
  {
   "cell_type": "code",
   "execution_count": 8,
   "id": "ccb023ab",
   "metadata": {},
   "outputs": [
    {
     "name": "stdout",
     "output_type": "stream",
     "text": [
      "The current value of i is: 0\n",
      "The current value of i is: 3\n",
      "The current value of i is: 6\n",
      "The current value of i is: 9\n",
      "The current value of i is: 12\n",
      "The current value of i is: 15\n",
      "The current value of i is: 18\n",
      "The current value of i is: 21\n",
      "The current value of i is: 24\n",
      "The current value of i is: 27\n",
      "The current value of i is: 30\n",
      "The current value of i is: 33\n",
      "The current value of i is: 36\n",
      "The current value of i is: 39\n",
      "The current value of i is: 42\n",
      "The current value of i is: 45\n",
      "The current value of i is: 48\n",
      "The current value of i is: 51\n",
      "The current value of i is: 54\n",
      "The current value of i is: 57\n",
      "The current value of i is: 60\n",
      "The current value of i is: 63\n",
      "The current value of i is: 66\n",
      "The current value of i is: 69\n",
      "The current value of i is: 72\n",
      "The current value of i is: 75\n",
      "The current value of i is: 78\n",
      "The current value of i is: 81\n",
      "The current value of i is: 84\n",
      "The current value of i is: 87\n",
      "The current value of i is: 90\n",
      "The current value of i is: 93\n",
      "The current value of i is: 96\n",
      "The current value of i is: 99\n"
     ]
    }
   ],
   "source": [
    "for i in range(0, 100, 3):\n",
    "    print(f\"The current value of i is: {i}\")"
   ]
  }
 ],
 "metadata": {
  "kernelspec": {
   "display_name": "venv",
   "language": "python",
   "name": "python3"
  },
  "language_info": {
   "codemirror_mode": {
    "name": "ipython",
    "version": 3
   },
   "file_extension": ".py",
   "mimetype": "text/x-python",
   "name": "python",
   "nbconvert_exporter": "python",
   "pygments_lexer": "ipython3",
   "version": "3.12.3"
  }
 },
 "nbformat": 4,
 "nbformat_minor": 5
}
